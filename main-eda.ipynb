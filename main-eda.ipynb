{
  "cells": [
    {
      "cell_type": "code",
      "execution_count": null,
      "metadata": {
        "id": "wtuXn75zoa3p"
      },
      "outputs": [],
      "source": [
        "import pandas as pd\n",
        "import numpy as np"
      ]
    },
    {
      "cell_type": "code",
      "execution_count": null,
      "metadata": {
        "id": "UpG1xCzxor02"
      },
      "outputs": [],
      "source": [
        "url = 'https://caelum-online-public.s3.amazonaws.com/2929-pandas/dataset-telecon.json'"
      ]
    },
    {
      "cell_type": "code",
      "execution_count": null,
      "metadata": {
        "id": "U8bXAwAxpAEZ"
      },
      "outputs": [],
      "source": [
        "dados = pd.read_json(url)"
      ]
    },
    {
      "cell_type": "code",
      "execution_count": null,
      "metadata": {
        "colab": {
          "base_uri": "https://localhost:8080/",
          "height": 206
        },
        "id": "5fAU_0GIo_9-",
        "outputId": "d4f698ab-a877-400c-e9a9-3cb734cb858a"
      },
      "outputs": [],
      "source": [
        "dados.head()"
      ]
    },
    {
      "cell_type": "code",
      "execution_count": null,
      "metadata": {
        "colab": {
          "base_uri": "https://localhost:8080/"
        },
        "id": "2z8Lk6sEo_74",
        "outputId": "c5371d84-4889-4da7-bbb4-b1a3e3634abb"
      },
      "outputs": [],
      "source": [
        "dados.info()"
      ]
    },
    {
      "cell_type": "code",
      "execution_count": null,
      "metadata": {
        "id": "rPt95Bf5o_5i"
      },
      "outputs": [],
      "source": [
        "dados_churn = dados"
      ]
    },
    {
      "cell_type": "code",
      "execution_count": null,
      "metadata": {
        "colab": {
          "base_uri": "https://localhost:8080/",
          "height": 206
        },
        "id": "JPkjvumto_3c",
        "outputId": "e6df056f-e2f2-487d-b921-86c572cd295c"
      },
      "outputs": [],
      "source": [
        "dados.head()"
      ]
    },
    {
      "cell_type": "code",
      "execution_count": null,
      "metadata": {
        "colab": {
          "base_uri": "https://localhost:8080/",
          "height": 597
        },
        "id": "CgQwrNKNqobM",
        "outputId": "8e8970ff-2a0f-4e27-baf2-df76d1a4d9be"
      },
      "outputs": [],
      "source": [
        "dados_churn"
      ]
    },
    {
      "cell_type": "code",
      "execution_count": null,
      "metadata": {
        "colab": {
          "base_uri": "https://localhost:8080/"
        },
        "id": "xQPHQtAfqqdT",
        "outputId": "139a8889-9fa6-4098-bd10-e38d6866fa17"
      },
      "outputs": [],
      "source": [
        "dados_churn['conta'][0]"
      ]
    },
    {
      "cell_type": "code",
      "execution_count": null,
      "metadata": {
        "colab": {
          "base_uri": "https://localhost:8080/",
          "height": 206
        },
        "id": "KQqNRD-Zqsfg",
        "outputId": "c0541ec4-225e-4b42-82fc-a0a4678e1e97"
      },
      "outputs": [],
      "source": [
        "pd.json_normalize(dados_churn['conta']).head()"
      ]
    },
    {
      "cell_type": "code",
      "execution_count": null,
      "metadata": {
        "colab": {
          "base_uri": "https://localhost:8080/",
          "height": 206
        },
        "id": "0tE1-l5iqsb4",
        "outputId": "db37e687-194e-43c8-df54-d25e60dcb6f8"
      },
      "outputs": [],
      "source": [
        "pd.json_normalize(dados_churn['telefone']).head()"
      ]
    },
    {
      "cell_type": "code",
      "execution_count": null,
      "metadata": {
        "id": "wBeLpZbkqsZR"
      },
      "outputs": [],
      "source": [
        "import json"
      ]
    },
    {
      "cell_type": "code",
      "execution_count": null,
      "metadata": {
        "id": "PK2UTEzaqsWC"
      },
      "outputs": [],
      "source": [
        "with open('dataset-telecon.json') as f:\n",
        "  json_bruto = json.load(f)"
      ]
    },
    {
      "cell_type": "code",
      "execution_count": null,
      "metadata": {
        "colab": {
          "base_uri": "https://localhost:8080/"
        },
        "id": "fXZPNRs9qsS4",
        "outputId": "a7fa68f0-a71c-4e2e-b4ac-981d64ab4380"
      },
      "outputs": [],
      "source": [
        "json_bruto"
      ]
    },
    {
      "cell_type": "code",
      "execution_count": null,
      "metadata": {
        "colab": {
          "base_uri": "https://localhost:8080/",
          "height": 325
        },
        "id": "s_b6AOcjqsP5",
        "outputId": "9de1e7e9-4151-4308-8584-bcd5b75330eb"
      },
      "outputs": [],
      "source": [
        "dados_normalizados = pd.json_normalize(json_bruto)\n",
        "dados_normalizados.head()\n"
      ]
    },
    {
      "cell_type": "code",
      "execution_count": null,
      "metadata": {
        "colab": {
          "base_uri": "https://localhost:8080/"
        },
        "id": "7vE91pzbqsNC",
        "outputId": "6fd83746-10f3-4628-e83f-8606791eb549"
      },
      "outputs": [],
      "source": [
        "dados_normalizados.info()"
      ]
    },
    {
      "cell_type": "code",
      "execution_count": null,
      "metadata": {
        "id": "_O-q_Gn7qsKL"
      },
      "outputs": [],
      "source": [
        "# dados_normalizados['conta.cobranca.Total'] = dados_normalizados['conta.cobranca.Total'].astype(float)\n",
        "# esse comando deu erro pois os valores da coluna conta.cobranca.total possuem caracteres que nao da para converter normalmente para string"
      ]
    },
    {
      "cell_type": "code",
      "execution_count": null,
      "metadata": {
        "colab": {
          "base_uri": "https://localhost:8080/",
          "height": 342
        },
        "id": "PlhH3fFUqsHs",
        "outputId": "2882c21e-e01f-4f40-cc18-ebd035e51d5a"
      },
      "outputs": [],
      "source": [
        "dados_normalizados[dados_normalizados['conta.cobranca.Total'] == ' '].head()"
      ]
    },
    {
      "cell_type": "code",
      "execution_count": null,
      "metadata": {
        "colab": {
          "base_uri": "https://localhost:8080/",
          "height": 394
        },
        "id": "0u6vzilswMkm",
        "outputId": "80bb6b87-0af1-484a-fa2b-cc91b3f2c0dd"
      },
      "outputs": [],
      "source": [
        "dados_normalizados[dados_normalizados['conta.cobranca.Total'] == ' '][\n",
        "    ['cliente.tempo_servico', 'conta.contrato', 'conta.cobranca.mensal', 'conta.cobranca.Total']\n",
        "]"
      ]
    },
    {
      "cell_type": "code",
      "execution_count": null,
      "metadata": {
        "id": "0jUGsZBIwfhI"
      },
      "outputs": [],
      "source": [
        "idx = dados_normalizados[dados_normalizados['conta.cobranca.Total'] == ' '].index"
      ]
    },
    {
      "cell_type": "code",
      "execution_count": null,
      "metadata": {
        "id": "quuUzoL4wg91"
      },
      "outputs": [],
      "source": [
        "dados_normalizados.loc[idx, \"conta.cobranca.Total\"] = dados_normalizados.loc[idx, \"conta.cobranca.mensal\"] * 24"
      ]
    },
    {
      "cell_type": "code",
      "execution_count": null,
      "metadata": {
        "id": "rg7uhSZqw4o2"
      },
      "outputs": [],
      "source": [
        "dados_normalizados.loc[idx, \"cliente.tempo_servico\"] = 24"
      ]
    },
    {
      "cell_type": "code",
      "execution_count": null,
      "metadata": {
        "colab": {
          "base_uri": "https://localhost:8080/",
          "height": 394
        },
        "id": "K0i28xzixCA4",
        "outputId": "c325fb63-8181-4453-90cf-18b8aaf8806a"
      },
      "outputs": [],
      "source": [
        "dados_normalizados.loc[idx][['cliente.tempo_servico', 'conta.contrato', 'conta.cobranca.mensal', 'conta.cobranca.Total']\n",
        "]"
      ]
    },
    {
      "cell_type": "code",
      "execution_count": null,
      "metadata": {
        "id": "Em-gThZ1xM8L"
      },
      "outputs": [],
      "source": [
        "dados_normalizados['conta.cobranca.Total'] = dados_normalizados['conta.cobranca.Total'].astype(float)"
      ]
    },
    {
      "cell_type": "code",
      "execution_count": null,
      "metadata": {
        "colab": {
          "base_uri": "https://localhost:8080/"
        },
        "id": "lePVWwhnxUEl",
        "outputId": "80b35758-6240-4a73-91a7-5a94d0ed4f7e"
      },
      "outputs": [],
      "source": [
        "dados_normalizados.info()"
      ]
    },
    {
      "cell_type": "code",
      "execution_count": null,
      "metadata": {
        "colab": {
          "base_uri": "https://localhost:8080/"
        },
        "id": "nUGrQXjtxUB-",
        "outputId": "9b0b5e8b-2af1-4247-f397-ea5ba7abe155"
      },
      "outputs": [],
      "source": [
        "for col in dados_normalizados.columns:\n",
        "  print(f'coluna: {col}')\n",
        "  print(dados_normalizados[col].unique())\n",
        "  print('-' * 30)"
      ]
    },
    {
      "cell_type": "code",
      "execution_count": null,
      "metadata": {
        "colab": {
          "base_uri": "https://localhost:8080/",
          "height": 617
        },
        "id": "NL7Nfxb_xT_l",
        "outputId": "43d14cb7-1cc6-42c4-a2bc-5b3eb1fb3eeb"
      },
      "outputs": [],
      "source": [
        "dados_normalizados.query('Churn == \"\"')"
      ]
    },
    {
      "cell_type": "code",
      "execution_count": null,
      "metadata": {
        "id": "5TcZUwpOArxC"
      },
      "outputs": [],
      "source": [
        "dados_sem_vazio = dados_normalizados[dados_normalizados['Churn'] != ''].copy()"
      ]
    },
    {
      "cell_type": "code",
      "execution_count": null,
      "metadata": {
        "colab": {
          "base_uri": "https://localhost:8080/"
        },
        "id": "gB8C5080Arta",
        "outputId": "b2dbe245-ac4c-40c2-aa07-220eb0996817"
      },
      "outputs": [],
      "source": [
        "dados_sem_vazio.info()"
      ]
    },
    {
      "cell_type": "markdown",
      "metadata": {
        "id": "bp_Sutz3Bw_R"
      },
      "source": [
        "Só aplcando o metodo reset index, ele vai criar uma nova coluna de index, e preservar os indices antigos em uma coluna extra. NO PROXIMO CAMPO DE CODIGO VAMOS REMOVER ESSA COLUNA EXTRA COM OS INDICES ANTIGOS"
      ]
    },
    {
      "cell_type": "code",
      "execution_count": null,
      "metadata": {
        "colab": {
          "base_uri": "https://localhost:8080/",
          "height": 582
        },
        "id": "T8MU3bSTArqq",
        "outputId": "3f0b6d2a-07d8-4f9d-8dcc-3760241636f2"
      },
      "outputs": [],
      "source": [
        "dados_sem_vazio.reset_index()"
      ]
    },
    {
      "cell_type": "markdown",
      "metadata": {
        "id": "humfsH89B_pn"
      },
      "source": [
        "Inplace vai alterar o dados_sem_vazio DIRETAMENTE sem precisar atribuir assim -> (     dados_sem_vazio = dados_sem_vazio.reset_index(drop = True, inplace = True)    )"
      ]
    },
    {
      "cell_type": "code",
      "execution_count": null,
      "metadata": {
        "id": "Qg49VYPMArop"
      },
      "outputs": [],
      "source": [
        "dados_sem_vazio.reset_index(drop = True, inplace = True)"
      ]
    },
    {
      "cell_type": "markdown",
      "metadata": {
        "id": "FlWekIrPJHk8"
      },
      "source": [
        "retorna uma series booleana , se na linha do dataframe há quaiser dados duplicados ou seja dados que sejam exatamente iguais a qualquer outra linha no dataframe(todas as colunas com o mesmo valor)"
      ]
    },
    {
      "cell_type": "code",
      "execution_count": null,
      "metadata": {
        "colab": {
          "base_uri": "https://localhost:8080/"
        },
        "id": "rEYJC4PWG_8P",
        "outputId": "b1c2e182-c7f1-4898-9bd0-48ea2bb56f7d"
      },
      "outputs": [],
      "source": [
        "dados_sem_vazio.duplicated()\n"
      ]
    },
    {
      "cell_type": "code",
      "execution_count": null,
      "metadata": {
        "colab": {
          "base_uri": "https://localhost:8080/"
        },
        "id": "KUxL2xzfGr4u",
        "outputId": "e97dc0df-0da1-4239-e457-81a68f021a70"
      },
      "outputs": [],
      "source": [
        "dados_sem_vazio.duplicated().sum()\n"
      ]
    },
    {
      "cell_type": "code",
      "execution_count": null,
      "metadata": {
        "id": "TTYBKWPMHJV3"
      },
      "outputs": [],
      "source": [
        "filtro_duplicadas = dados_sem_vazio.duplicated().sum()\n"
      ]
    },
    {
      "cell_type": "code",
      "execution_count": null,
      "metadata": {
        "colab": {
          "base_uri": "https://localhost:8080/"
        },
        "id": "0lUjQ1LVH2I7",
        "outputId": "a2e01382-2d25-4775-9221-6963ed49e7ca"
      },
      "outputs": [],
      "source": [
        "filtro_duplicadas = dados_sem_vazio.duplicated()\n",
        "filtro_duplicadas"
      ]
    },
    {
      "cell_type": "code",
      "execution_count": null,
      "metadata": {
        "colab": {
          "base_uri": "https://localhost:8080/",
          "height": 600
        },
        "id": "p7z6QCQHHx_M",
        "outputId": "6319a6dd-2ebe-4423-9f45-b7ba01b1b163"
      },
      "outputs": [],
      "source": [
        "dados_sem_vazio[filtro_duplicadas]"
      ]
    },
    {
      "cell_type": "markdown",
      "metadata": {
        "id": "Y4XLBYALIzMg"
      },
      "source": [
        "novamente usando o inplace para atribuir automaticamente"
      ]
    },
    {
      "cell_type": "code",
      "execution_count": null,
      "metadata": {
        "id": "IEww7WwLIAFn"
      },
      "outputs": [],
      "source": [
        "dados_sem_vazio.drop_duplicates(inplace=True)"
      ]
    },
    {
      "cell_type": "code",
      "execution_count": null,
      "metadata": {
        "colab": {
          "base_uri": "https://localhost:8080/"
        },
        "id": "eJe9jqBiI3q_",
        "outputId": "4f334ce2-35c4-4c46-c989-9a51d18f46b5"
      },
      "outputs": [],
      "source": [
        "dados_sem_vazio.duplicated()"
      ]
    },
    {
      "cell_type": "code",
      "execution_count": null,
      "metadata": {
        "colab": {
          "base_uri": "https://localhost:8080/"
        },
        "id": "u2FgESqzI6mI",
        "outputId": "bfb7e399-6149-487c-a3b2-f2452e0729ef"
      },
      "outputs": [],
      "source": [
        "dados_sem_vazio.duplicated().sum()"
      ]
    },
    {
      "cell_type": "markdown",
      "metadata": {
        "id": "gA6py9dtY_sW"
      },
      "source": [
        "IDENTIFICANDO E EXCLUINDO DADOS NULOS"
      ]
    },
    {
      "cell_type": "code",
      "execution_count": null,
      "metadata": {
        "colab": {
          "base_uri": "https://localhost:8080/",
          "height": 443
        },
        "id": "nL36WlLpO7b7",
        "outputId": "60020e81-f954-4054-b6a5-9388852abd5c"
      },
      "outputs": [],
      "source": [
        "dados_sem_vazio.isna()"
      ]
    },
    {
      "cell_type": "code",
      "execution_count": null,
      "metadata": {
        "colab": {
          "base_uri": "https://localhost:8080/"
        },
        "id": "rFrCRWwaXr3n",
        "outputId": "0dd189a2-65f8-4953-f542-01ba6ab5c1d4"
      },
      "outputs": [],
      "source": [
        "dados_sem_vazio.isna().sum()"
      ]
    },
    {
      "cell_type": "code",
      "execution_count": null,
      "metadata": {
        "colab": {
          "base_uri": "https://localhost:8080/"
        },
        "id": "3GZM_DRFXr1X",
        "outputId": "b40c5297-b898-4fd3-d62d-005795383c4a"
      },
      "outputs": [],
      "source": [
        "dados_sem_vazio.isna().sum().sum()"
      ]
    },
    {
      "cell_type": "code",
      "execution_count": null,
      "metadata": {
        "colab": {
          "base_uri": "https://localhost:8080/",
          "height": 1000
        },
        "id": "f_bpRRnZXry1",
        "outputId": "432e8fad-f813-4727-8168-a2099911bfca"
      },
      "outputs": [],
      "source": [
        "dados_sem_vazio[dados_sem_vazio.isna().any(axis=1)]"
      ]
    },
    {
      "cell_type": "code",
      "execution_count": null,
      "metadata": {
        "id": "EylESJiZXrwe"
      },
      "outputs": [],
      "source": [
        "filtro = dados_sem_vazio['cliente.tempo_servico'].isna()"
      ]
    },
    {
      "cell_type": "code",
      "execution_count": null,
      "metadata": {
        "colab": {
          "base_uri": "https://localhost:8080/",
          "height": 300
        },
        "id": "ODjmMKIHXruQ",
        "outputId": "bbf7a5f2-a9d6-4b9c-9111-a6c3ac68cf8c"
      },
      "outputs": [],
      "source": [
        "dados_sem_vazio[filtro][['cliente.tempo_servico', 'conta.cobranca.mensal', 'conta.cobranca.Total']]"
      ]
    },
    {
      "cell_type": "code",
      "execution_count": null,
      "metadata": {
        "colab": {
          "base_uri": "https://localhost:8080/"
        },
        "id": "B8BCzpkgXrqy",
        "outputId": "b6358f7e-2789-4ea3-9038-24ebc5748ad4"
      },
      "outputs": [],
      "source": [
        "import numpy as np\n",
        "np.ceil(5957.90 / 90.45)"
      ]
    },
    {
      "cell_type": "code",
      "execution_count": null,
      "metadata": {
        "id": "XLqD0HYopiqC"
      },
      "outputs": [],
      "source": [
        "dados_sem_vazio['cliente.tempo_servico'].fillna(\n",
        "    np.ceil(\n",
        "        dados_sem_vazio['conta.cobranca.Total'] / dados_sem_vazio['conta.cobranca.mensal']\n",
        "    ), inplace=True\n",
        ")"
      ]
    },
    {
      "cell_type": "code",
      "execution_count": null,
      "metadata": {
        "colab": {
          "base_uri": "https://localhost:8080/",
          "height": 300
        },
        "id": "feaggSIeqPh9",
        "outputId": "506b3497-f16b-47dc-b09c-1dc6f165dad4"
      },
      "outputs": [],
      "source": [
        "dados_sem_vazio[filtro][['cliente.tempo_servico', 'conta.cobranca.mensal', 'conta.cobranca.Total']]"
      ]
    },
    {
      "cell_type": "code",
      "execution_count": null,
      "metadata": {
        "colab": {
          "base_uri": "https://localhost:8080/"
        },
        "id": "JjgaU3RdqPaG",
        "outputId": "2fc42dde-08d4-49b2-ab80-4a8ee39f3e82"
      },
      "outputs": [],
      "source": [
        "dados_sem_vazio.isna().sum()"
      ]
    },
    {
      "cell_type": "code",
      "execution_count": null,
      "metadata": {
        "colab": {
          "base_uri": "https://localhost:8080/"
        },
        "id": "t1Wc9MhxxbUv",
        "outputId": "e07f97bd-b3c7-4ff6-d2ae-f4d045a4b91d"
      },
      "outputs": [],
      "source": [
        "dados_sem_vazio['conta.contrato'].value_counts()"
      ]
    },
    {
      "cell_type": "code",
      "execution_count": null,
      "metadata": {
        "id": "XhBNq-oRxsUR"
      },
      "outputs": [],
      "source": [
        "colunas_dropar = ['conta.contrato', 'conta.faturamente_eletronico', 'conta.metodo_pagamento']"
      ]
    },
    {
      "cell_type": "code",
      "execution_count": null,
      "metadata": {
        "colab": {
          "base_uri": "https://localhost:8080/",
          "height": 423
        },
        "id": "lNHa_cUKyVt1",
        "outputId": "64b3f800-88c8-42bb-e11b-97f67b5ff3c0"
      },
      "outputs": [],
      "source": [
        "dados_sem_vazio[colunas_dropar].isna()"
      ]
    },
    {
      "cell_type": "code",
      "execution_count": null,
      "metadata": {
        "colab": {
          "base_uri": "https://localhost:8080/"
        },
        "id": "Zyg88k0byfU-",
        "outputId": "f49a0339-6d8c-4f41-d529-d67e73b12cbd"
      },
      "outputs": [],
      "source": [
        "dados_sem_vazio[colunas_dropar].isna().any(axis=1).sum()"
      ]
    },
    {
      "cell_type": "markdown",
      "metadata": {
        "id": "_2Y2vsN4faY4"
      },
      "source": [
        "subset é para passar as colunas para avaliacao dos dados nulos"
      ]
    },
    {
      "cell_type": "code",
      "execution_count": null,
      "metadata": {
        "colab": {
          "base_uri": "https://localhost:8080/",
          "height": 325
        },
        "id": "oFXqDjADzfYP",
        "outputId": "2c3d29f9-9eb7-44e3-b2a3-dacaf6bd1cdc"
      },
      "outputs": [],
      "source": [
        "df_sem_nulo = dados_sem_vazio.dropna(subset=colunas_dropar).copy()\n",
        "df_sem_nulo.head()"
      ]
    },
    {
      "cell_type": "code",
      "execution_count": null,
      "metadata": {
        "id": "m_g7JCNFztD2"
      },
      "outputs": [],
      "source": [
        "df_sem_nulo.reset_index(drop = True, inplace = True)"
      ]
    },
    {
      "cell_type": "code",
      "execution_count": null,
      "metadata": {
        "colab": {
          "base_uri": "https://localhost:8080/"
        },
        "id": "KE-rSMwn0guw",
        "outputId": "1ea2736e-1756-4b01-ba2e-385d821f2cbc"
      },
      "outputs": [],
      "source": [
        "df_sem_nulo.isna().sum()"
      ]
    },
    {
      "cell_type": "code",
      "execution_count": null,
      "metadata": {
        "colab": {
          "base_uri": "https://localhost:8080/",
          "height": 300
        },
        "id": "Vln54HTh0k9W",
        "outputId": "899f8009-41c9-47b9-8482-25fcd4353ee5"
      },
      "outputs": [],
      "source": [
        "df_sem_nulo.describe()"
      ]
    },
    {
      "cell_type": "code",
      "execution_count": null,
      "metadata": {
        "id": "NEbRovMX2Thv"
      },
      "outputs": [],
      "source": [
        "import seaborn as sns\n"
      ]
    },
    {
      "cell_type": "code",
      "execution_count": null,
      "metadata": {
        "colab": {
          "base_uri": "https://localhost:8080/",
          "height": 468
        },
        "id": "OwBnB72i2oWg",
        "outputId": "77ad6aa2-2530-4fb7-e925-889e2f73865b"
      },
      "outputs": [],
      "source": [
        "sns.boxplot(x=df_sem_nulo['cliente.tempo_servico'])"
      ]
    },
    {
      "cell_type": "code",
      "execution_count": null,
      "metadata": {
        "id": "ADqdaB1z2t1J"
      },
      "outputs": [],
      "source": [
        "Q1 = df_sem_nulo['cliente.tempo_servico'].quantile(.25)\n",
        "Q3 = df_sem_nulo['cliente.tempo_servico'].quantile(.75)\n",
        "IQR = Q3 - Q1\n",
        "limite_inferior = Q1 -1.5*IQR\n",
        "limite_superior = Q1 +1.5*IQR"
      ]
    },
    {
      "cell_type": "code",
      "execution_count": null,
      "metadata": {
        "colab": {
          "base_uri": "https://localhost:8080/"
        },
        "id": "qLXz4GoA3Mb3",
        "outputId": "bf255121-b0a3-47c5-c83c-3bb7aa8ca5aa"
      },
      "outputs": [],
      "source": [
        "type(Q1)"
      ]
    },
    {
      "cell_type": "code",
      "execution_count": null,
      "metadata": {
        "colab": {
          "base_uri": "https://localhost:8080/"
        },
        "id": "fP2SOnmI3sgq",
        "outputId": "f6dbe679-7c96-45ec-941a-d28b147da289"
      },
      "outputs": [],
      "source": [
        "outliers_index = (df_sem_nulo['cliente.tempo_servico'] < limite_inferior) | (df_sem_nulo['cliente.tempo_servico'] > limite_superior)\n",
        "outliers_index"
      ]
    },
    {
      "cell_type": "code",
      "execution_count": null,
      "metadata": {
        "colab": {
          "base_uri": "https://localhost:8080/"
        },
        "id": "026JvvEy4LKo",
        "outputId": "42878624-d721-4e44-9fca-9009e8985994"
      },
      "outputs": [],
      "source": [
        "df_sem_nulo[outliers_index]['cliente.tempo_servico']"
      ]
    },
    {
      "cell_type": "code",
      "execution_count": null,
      "metadata": {
        "id": "YCP5fb7M4LIC"
      },
      "outputs": [],
      "source": [
        "df_sem_out = df_sem_nulo.copy()"
      ]
    },
    {
      "cell_type": "code",
      "execution_count": null,
      "metadata": {
        "colab": {
          "base_uri": "https://localhost:8080/"
        },
        "id": "VbkjMBLk4n9S",
        "outputId": "c7c23b41-c082-48f9-aaab-98c70259aad0"
      },
      "outputs": [],
      "source": [
        "df_sem_out[outliers_index]['cliente.tempo_servico']"
      ]
    },
    {
      "cell_type": "code",
      "execution_count": null,
      "metadata": {
        "id": "OM7jjwzB4n6z"
      },
      "outputs": [],
      "source": [
        "df_sem_out.loc[outliers_index , 'cliente.tempo_servico'] = np.ceil(\n",
        "    df_sem_out.loc[outliers_index , 'conta.cobranca.Total'] /\n",
        "     df_sem_out.loc[outliers_index , 'conta.cobranca.mensal']\n",
        "\n",
        ")"
      ]
    },
    {
      "cell_type": "code",
      "execution_count": null,
      "metadata": {
        "colab": {
          "base_uri": "https://localhost:8080/",
          "height": 468
        },
        "id": "Qm_rKW0Y4nzf",
        "outputId": "5c0c42df-2d5d-414c-c772-e1eb128c2e27"
      },
      "outputs": [],
      "source": [
        "sns.boxplot(x=df_sem_out['cliente.tempo_servico'])"
      ]
    },
    {
      "cell_type": "code",
      "execution_count": null,
      "metadata": {
        "colab": {
          "base_uri": "https://localhost:8080/",
          "height": 363
        },
        "id": "4eoFdJRg4nwn",
        "outputId": "54c1a014-3d82-4eec-ef5a-969c97ae7d23"
      },
      "outputs": [],
      "source": [
        "df_sem_out[outliers_index][['cliente.tempo_servico' , 'conta.cobranca.mensal' , 'conta.cobranca.Total' ]]\n"
      ]
    },
    {
      "cell_type": "code",
      "execution_count": null,
      "metadata": {
        "colab": {
          "base_uri": "https://localhost:8080/"
        },
        "id": "BxOzuDNI4nta",
        "outputId": "07f6143b-c199-4219-d6ee-6b42ad6b346e"
      },
      "outputs": [],
      "source": [
        "df_sem_out[outliers_index]['cliente.tempo_servico']"
      ]
    },
    {
      "cell_type": "code",
      "execution_count": null,
      "metadata": {
        "colab": {
          "base_uri": "https://localhost:8080/"
        },
        "id": "0WOZVEnP4npf",
        "outputId": "c600c4f1-aec2-4225-9bdf-b1573532db2c"
      },
      "outputs": [],
      "source": [
        "Q1 = df_sem_out['cliente.tempo_servico'].quantile(.25)\n",
        "Q3 = df_sem_out['cliente.tempo_servico'].quantile(.75)\n",
        "IQR = Q3 - Q1\n",
        "limite_inferior = Q1 -1.5*IQR\n",
        "limite_superior = Q1 +1.5*IQR\n",
        "\n",
        "outliers_index = (df_sem_out['cliente.tempo_servico'] < limite_inferior) | (df_sem_out['cliente.tempo_servico'] > limite_superior)\n",
        "outliers_index"
      ]
    },
    {
      "cell_type": "code",
      "execution_count": null,
      "metadata": {
        "colab": {
          "base_uri": "https://localhost:8080/",
          "height": 293
        },
        "id": "zgJi9SGm4nlw",
        "outputId": "a37538c7-d7ac-40c5-918c-9da2b5a9df1d"
      },
      "outputs": [],
      "source": [
        "df_sem_out[outliers_index]"
      ]
    },
    {
      "cell_type": "code",
      "execution_count": null,
      "metadata": {
        "colab": {
          "base_uri": "https://localhost:8080/",
          "height": 582
        },
        "id": "cIkKdYvK4niu",
        "outputId": "6695a52d-15fc-44be-f705-7530e0f51d88"
      },
      "outputs": [],
      "source": [
        "df_sem_out = df_sem_out[~outliers_index]\n",
        "df_sem_out"
      ]
    },
    {
      "cell_type": "code",
      "execution_count": null,
      "metadata": {
        "colab": {
          "base_uri": "https://localhost:8080/",
          "height": 468
        },
        "id": "pSvRVqRi4nfP",
        "outputId": "8b736275-d8b7-4f74-e87a-6123ab10c2b9"
      },
      "outputs": [],
      "source": [
        "sns.boxplot(x=df_sem_out['cliente.tempo_servico'])"
      ]
    },
    {
      "cell_type": "code",
      "execution_count": null,
      "metadata": {
        "id": "mAEcDbo24LE7"
      },
      "outputs": [],
      "source": [
        "df_sem_out.reset_index(drop=True, inplace = True)"
      ]
    },
    {
      "cell_type": "code",
      "execution_count": null,
      "metadata": {
        "colab": {
          "base_uri": "https://localhost:8080/",
          "height": 582
        },
        "id": "7sw3A-r281yP",
        "outputId": "7df6c28a-0b40-4448-baf5-3a188f9472c8"
      },
      "outputs": [],
      "source": [
        "df_sem_out"
      ]
    },
    {
      "cell_type": "code",
      "execution_count": null,
      "metadata": {
        "colab": {
          "base_uri": "https://localhost:8080/",
          "height": 461
        },
        "id": "whyxfoF184UG",
        "outputId": "50b99226-6279-40c9-e01e-7d227947666b"
      },
      "outputs": [],
      "source": [
        "df_sem_out.drop('id_cliente', axis=1)"
      ]
    },
    {
      "cell_type": "code",
      "execution_count": null,
      "metadata": {
        "colab": {
          "base_uri": "https://localhost:8080/",
          "height": 461
        },
        "id": "PGKm6Sn3_Dcj",
        "outputId": "b867b3af-6a03-49ae-9db2-1b665d004e74"
      },
      "outputs": [],
      "source": [
        "df_sem_id = df_sem_out.drop('id_cliente', axis=1).copy()\n",
        "df_sem_id"
      ]
    },
    {
      "cell_type": "code",
      "execution_count": null,
      "metadata": {
        "id": "-TQLa69c_Lmy"
      },
      "outputs": [],
      "source": [
        "mapeamento = {\n",
        "    'nao': 0,\n",
        "    'sim': 1,\n",
        "    'masculino': 0,\n",
        "    'feminino': 1\n",
        "}"
      ]
    },
    {
      "cell_type": "code",
      "execution_count": null,
      "metadata": {
        "colab": {
          "base_uri": "https://localhost:8080/"
        },
        "id": "tzNe0QbY_lxw",
        "outputId": "83413ada-829a-4d98-c330-e16717f2e637"
      },
      "outputs": [],
      "source": [
        "for col in df_sem_id.columns:\n",
        "    print(f\"Coluna: {col}\")\n",
        "    print(df_sem_id[col].unique())\n",
        "    print(\"-\" * 30)"
      ]
    },
    {
      "cell_type": "code",
      "execution_count": null,
      "metadata": {
        "id": "IBHbZRPeCW9j"
      },
      "outputs": [],
      "source": [
        "colunas = ['telefone.servico_telefone', 'Churn', 'cliente.parceiro', 'cliente.dependentes', 'conta.faturamente_eletronico', 'cliente.genero']"
      ]
    },
    {
      "cell_type": "code",
      "execution_count": null,
      "metadata": {
        "colab": {
          "base_uri": "https://localhost:8080/",
          "height": 461
        },
        "id": "9W-yvKHCCW2L",
        "outputId": "a765921b-c3ca-431d-ac25-e1bd9e63f395"
      },
      "outputs": [],
      "source": [
        "df_sem_id[colunas] = df_sem_id[colunas].replace(mapeamento)\n",
        "df_sem_id\n"
      ]
    },
    {
      "cell_type": "code",
      "execution_count": null,
      "metadata": {
        "colab": {
          "base_uri": "https://localhost:8080/"
        },
        "id": "nOt89qo3CWzU",
        "outputId": "4445ed9c-d325-4faa-bac2-19ca1240bf5f"
      },
      "outputs": [],
      "source": [
        "for col in df_sem_id.columns:\n",
        "    print(f\"Coluna: {col}\")\n",
        "    print(df_sem_id[col].unique())\n",
        "    print(\"-\" * 30)"
      ]
    },
    {
      "cell_type": "code",
      "execution_count": null,
      "metadata": {
        "colab": {
          "base_uri": "https://localhost:8080/",
          "height": 461
        },
        "id": "fkBHY8yvCWrw",
        "outputId": "6ecd1c0c-51e9-4640-d22c-5e87433842a2"
      },
      "outputs": [],
      "source": [
        "pd.get_dummies(df_sem_id)"
      ]
    },
    {
      "cell_type": "code",
      "execution_count": null,
      "metadata": {
        "colab": {
          "base_uri": "https://localhost:8080/",
          "height": 273
        },
        "id": "wNJ3GvZfCWpG",
        "outputId": "133333fc-54eb-4f6a-849b-baf59cc6661d"
      },
      "outputs": [],
      "source": [
        "df_dummies = pd.get_dummies(df_sem_id, dtype=int).copy()\n",
        "df_dummies.head()"
      ]
    },
    {
      "cell_type": "code",
      "execution_count": null,
      "metadata": {
        "colab": {
          "base_uri": "https://localhost:8080/"
        },
        "id": "Ad7_uMRICWlY",
        "outputId": "e923b22e-b055-4f9f-b69c-6f0e6491167b"
      },
      "outputs": [],
      "source": [
        "df_dummies.info()"
      ]
    },
    {
      "cell_type": "code",
      "execution_count": null,
      "metadata": {
        "id": "_YvNs5yMEfZJ"
      },
      "outputs": [],
      "source": []
    },
    {
      "cell_type": "code",
      "execution_count": null,
      "metadata": {
        "id": "HhoATChSEfWh"
      },
      "outputs": [],
      "source": []
    },
    {
      "cell_type": "code",
      "execution_count": null,
      "metadata": {
        "id": "D93fRJlWEfUB"
      },
      "outputs": [],
      "source": []
    }
  ],
  "metadata": {
    "colab": {
      "provenance": [],
      "toc_visible": true
    },
    "kernelspec": {
      "display_name": "Python 3",
      "name": "python3"
    },
    "language_info": {
      "name": "python"
    }
  },
  "nbformat": 4,
  "nbformat_minor": 0
}
